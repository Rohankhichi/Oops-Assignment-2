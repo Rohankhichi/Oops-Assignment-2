{
 "cells": [
  {
   "cell_type": "markdown",
   "id": "6f9c9e82-d335-4cd1-b30c-553aef11ef19",
   "metadata": {},
   "source": [
    "Q1. Explain Class and Object with respect to Object-Oriented Programming. Give a suitable example."
   ]
  },
  {
   "cell_type": "markdown",
   "id": "7a593d87-3ff1-4221-b249-60619ab576ba",
   "metadata": {},
   "source": [
    "Ans.1 = Class is just the classification of the object with real world entity."
   ]
  },
  {
   "cell_type": "code",
   "execution_count": 1,
   "id": "cb522106-04f9-4030-ba45-6365eee5a1b6",
   "metadata": {},
   "outputs": [],
   "source": [
    "class pwskills :\n",
    "    \n",
    "    def Object(self) :\n",
    "        print('This is my object')"
   ]
  },
  {
   "cell_type": "code",
   "execution_count": 2,
   "id": "4295474f-0a09-440b-abaf-52e87a94e9a2",
   "metadata": {},
   "outputs": [],
   "source": [
    "sudh = pwskills()"
   ]
  },
  {
   "cell_type": "code",
   "execution_count": 3,
   "id": "0e315c1d-fe15-4b0f-a08c-656f432960ce",
   "metadata": {},
   "outputs": [
    {
     "name": "stdout",
     "output_type": "stream",
     "text": [
      "This is my object\n"
     ]
    }
   ],
   "source": [
    "sudh.Object()"
   ]
  },
  {
   "cell_type": "markdown",
   "id": "d939b2d8-bf9f-4bb5-afb1-82a35de9f3f6",
   "metadata": {},
   "source": [
    "Q2. Name the four pillars of OOPs."
   ]
  },
  {
   "cell_type": "markdown",
   "id": "889d385a-ad5f-4de6-bda4-40b434e67308",
   "metadata": {},
   "source": [
    "Ans.2 = Polymorphism, Encapsulation, Inheritance, Abstraction"
   ]
  },
  {
   "cell_type": "markdown",
   "id": "68006eda-8778-46f5-b52a-b16f83bef195",
   "metadata": {},
   "source": [
    "Q3. Explain why the __init__() function is used. Give a suitable example."
   ]
  },
  {
   "cell_type": "markdown",
   "id": "b64e9a97-00c2-4274-86e5-0c523cb8a213",
   "metadata": {},
   "source": [
    "Ans.3 =  init refers to the constructer in python and init used to pass Data from the class"
   ]
  },
  {
   "cell_type": "code",
   "execution_count": 5,
   "id": "402638db-e603-4261-8fcb-d81ad5f33ecb",
   "metadata": {},
   "outputs": [],
   "source": [
    "class hello :\n",
    "    \n",
    "    def __init__(self, Name, Roll_No) :\n",
    "        self.Name = Name\n",
    "        self.Roll_No = Roll_No"
   ]
  },
  {
   "cell_type": "code",
   "execution_count": 7,
   "id": "c506f3dc-e6e0-4c2c-9c9b-eb75f57853d2",
   "metadata": {},
   "outputs": [],
   "source": [
    "World = hello('Rohan Khichi', 22)"
   ]
  },
  {
   "cell_type": "code",
   "execution_count": 8,
   "id": "f9a6d406-b877-4c7b-ae57-fc26daead77d",
   "metadata": {},
   "outputs": [
    {
     "data": {
      "text/plain": [
       "'Rohan Khichi'"
      ]
     },
     "execution_count": 8,
     "metadata": {},
     "output_type": "execute_result"
    }
   ],
   "source": [
    "World.Name"
   ]
  },
  {
   "cell_type": "markdown",
   "id": "a8897c64-d45e-43e8-9b22-d0ffd56a9a65",
   "metadata": {},
   "source": [
    "Q4. Why self is used in OOPs?"
   ]
  },
  {
   "cell_type": "markdown",
   "id": "e8e7e15a-3394-4f23-8d0a-a49b7f2e47b8",
   "metadata": {},
   "source": [
    "Self represents the instance of the class. By using the “self” we can access the attributes and methods of the class in Python. It binds the attributes with the given arguments. The reason you need to use self. is because Python does not use the @ syntax to refer to instance attributes"
   ]
  },
  {
   "cell_type": "markdown",
   "id": "fdea4748-fbc7-416d-87df-432f95ceafc5",
   "metadata": {},
   "source": [
    "Q5. What is inheritance? Give an example for each type of inheritance."
   ]
  },
  {
   "cell_type": "markdown",
   "id": "e052da2d-4155-4e0b-9c03-27da50231d90",
   "metadata": {},
   "source": [
    "Ans.5 = In object-oriented programming, inheritance is the mechanism of basing an object or class upon another object or class, retaining similar implementation. Also defined as deriving new classes from existing ones such as super class or base class and then forming them into a hierarchy of classes."
   ]
  },
  {
   "cell_type": "code",
   "execution_count": 9,
   "id": "740f405f-eb4a-4a78-80cb-56e5a87aa90d",
   "metadata": {},
   "outputs": [],
   "source": [
    "class parent :\n",
    "    \n",
    "    def Hello(self) :\n",
    "        print('This is me')"
   ]
  },
  {
   "cell_type": "code",
   "execution_count": 10,
   "id": "fd273f7c-b376-4ea9-a3b6-cbf387bf4561",
   "metadata": {},
   "outputs": [],
   "source": [
    "class child(parent):\n",
    "    \n",
    "    def world(self):\n",
    "        print('I am a child')"
   ]
  },
  {
   "cell_type": "code",
   "execution_count": 11,
   "id": "2750c680-4f57-4573-8834-4d53ff4ee84e",
   "metadata": {},
   "outputs": [],
   "source": [
    "P = child()"
   ]
  },
  {
   "cell_type": "code",
   "execution_count": 13,
   "id": "96561a8e-b33b-4715-96b9-cc762ff65bdf",
   "metadata": {},
   "outputs": [
    {
     "name": "stdout",
     "output_type": "stream",
     "text": [
      "This is me\n"
     ]
    }
   ],
   "source": [
    "P.Hello()\n",
    "#Now, P can easily acces both class through inheritance"
   ]
  },
  {
   "cell_type": "code",
   "execution_count": 14,
   "id": "2cdf06cc-31da-46ea-9047-9a162daf4be8",
   "metadata": {},
   "outputs": [],
   "source": [
    "# Base class1\n",
    "class Mother:\n",
    "    mothername = \"Darshan\"\n",
    " \n",
    "    def mother(self):\n",
    "        print(self.mothername)\n",
    " "
   ]
  },
  {
   "cell_type": "code",
   "execution_count": 15,
   "id": "d65e0b38-8562-47e3-ab5e-d728e1946499",
   "metadata": {},
   "outputs": [],
   "source": [
    "# Base class2\n",
    " \n",
    "class Father:\n",
    "    fathername = \"Manesh\"\n",
    " \n",
    "    def father(self):\n",
    "        print(self.fathername)"
   ]
  },
  {
   "cell_type": "code",
   "execution_count": null,
   "id": "beee923e-9694-47fc-858f-5e6b80530ea0",
   "metadata": {},
   "outputs": [],
   "source": []
  }
 ],
 "metadata": {
  "kernelspec": {
   "display_name": "Python 3 (ipykernel)",
   "language": "python",
   "name": "python3"
  },
  "language_info": {
   "codemirror_mode": {
    "name": "ipython",
    "version": 3
   },
   "file_extension": ".py",
   "mimetype": "text/x-python",
   "name": "python",
   "nbconvert_exporter": "python",
   "pygments_lexer": "ipython3",
   "version": "3.10.8"
  }
 },
 "nbformat": 4,
 "nbformat_minor": 5
}
